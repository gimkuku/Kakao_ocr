{
  "nbformat": 4,
  "nbformat_minor": 0,
  "metadata": {
    "colab": {
      "name": "Untitled0.ipynb",
      "provenance": [],
      "authorship_tag": "ABX9TyPOUnDscHBGWPshnqYHLH9x",
      "include_colab_link": true
    },
    "kernelspec": {
      "display_name": "Python 3",
      "name": "python3"
    },
    "language_info": {
      "name": "python"
    }
  },
  "cells": [
    {
      "cell_type": "markdown",
      "metadata": {
        "id": "view-in-github",
        "colab_type": "text"
      },
      "source": [
        "<a href=\"https://colab.research.google.com/github/gimkuku/Kakao_ocr/blob/master/Untitled0.ipynb\" target=\"_parent\"><img src=\"https://colab.research.google.com/assets/colab-badge.svg\" alt=\"Open In Colab\"/></a>"
      ]
    },
    {
      "cell_type": "code",
      "metadata": {
        "colab": {
          "base_uri": "https://localhost:8080/"
        },
        "id": "5f-u6YSQ6W14",
        "outputId": "0a08d7d0-a334-446c-f1d5-49294bc7af6f"
      },
      "source": [
        "from google.colab import drive\n",
        "drive.mount('/content/drive')"
      ],
      "execution_count": null,
      "outputs": [
        {
          "output_type": "stream",
          "text": [
            "Mounted at /content/drive\n"
          ],
          "name": "stdout"
        }
      ]
    },
    {
      "cell_type": "code",
      "metadata": {
        "id": "TycFTZaV6luW"
      },
      "source": [
        "import numpy as np\n",
        "import cv2\n",
        "from google.colab.patches import cv2_imshow"
      ],
      "execution_count": null,
      "outputs": []
    },
    {
      "cell_type": "code",
      "metadata": {
        "id": "Fz_g0jk46pmz"
      },
      "source": [
        "#같은 드라이브에서 이미지 불러오는 함수\n",
        "def get_image(fileurl):\n",
        "    file=fileurl\n",
        "    img=cv2.imread(file, cv2.IMREAD_COLOR)\n",
        "    ㄹile= cv2.cvtColor(img, cv2.COLOR_BGR2RGB)\n",
        "\n",
        "    cv2_imshow(img)"
      ],
      "execution_count": 26,
      "outputs": []
    },
    {
      "cell_type": "code",
      "metadata": {
        "id": "ajrlgOpm-0jw"
      },
      "source": [
        "#Kako OCR api\n",
        "import json\n",
        "\n",
        "import requests\n",
        "import sys"
      ],
      "execution_count": 9,
      "outputs": []
    },
    {
      "cell_type": "code",
      "metadata": {
        "id": "zb0_Q4RE-70T"
      },
      "source": [
        "LIMIT_PX = 1024\n",
        "LIMIT_BYTE = 1024*1024  # 1MB\n",
        "LIMIT_BOX = 40\n",
        "\n",
        "\n",
        "def kakao_ocr_resize(image_path: str):\n",
        "    \"\"\"\n",
        "    ocr detect/recognize api helper\n",
        "    ocr api의 제약사항이 넘어서는 이미지는 요청 이전에 전처리가 필요.\n",
        "\n",
        "    pixel 제약사항 초과: resize\n",
        "    용량 제약사항 초과  : 다른 포맷으로 압축, 이미지 분할 등의 처리 필요. (예제에서 제공하지 않음)\n",
        "\n",
        "    :param image_path: 이미지파일 경로\n",
        "    :return:\n",
        "    \"\"\"\n",
        "    image = cv2.imread(image_path)\n",
        "    height, width, _ = image.shape\n",
        "\n",
        "    if LIMIT_PX < height or LIMIT_PX < width:\n",
        "        ratio = float(LIMIT_PX) / max(height, width)\n",
        "        image = cv2.resize(image, None, fx=ratio, fy=ratio)\n",
        "        height, width, _ = height, width, _ = image.shape\n",
        "\n",
        "        # api 사용전에 이미지가 resize된 경우, recognize시 resize된 결과를 사용해야함.\n",
        "        image_path = \"{}_resized.jpg\".format(image_path)\n",
        "        cv2.imwrite(image_path, image)\n",
        "\n",
        "        return image_path\n",
        "    return None\n",
        "\n",
        "\n",
        "def kakao_ocr(image_path: str, appkey: str):\n",
        "    \"\"\"\n",
        "    OCR api request example\n",
        "    :param image_path: 이미지파일 경로\n",
        "    :param appkey: 카카오 앱 REST API 키\n",
        "    \"\"\"\n",
        "    API_URL = 'https://dapi.kakao.com/v2/vision/text/ocr'\n",
        "\n",
        "    headers = {'Authorization': 'KakaoAK {}'.format(appkey)}\n",
        "\n",
        "    image = cv2.imread(image_path)\n",
        "    jpeg_image = cv2.imencode(\".jpg\", image)[1]\n",
        "    data = jpeg_image.tobytes()\n",
        "\n",
        "\n",
        "    return requests.post(API_URL, headers=headers, files={\"image\": data})\n"
      ],
      "execution_count": 10,
      "outputs": []
    },
    {
      "cell_type": "code",
      "metadata": {
        "id": "M7cspomzGY03"
      },
      "source": [
        "#박스 자르는 함수\n",
        "\n",
        "def im_trim (img, x,y,h,w): #함수로 만든다\n",
        "    img_trim = img[y:y+h, x:x+w] #trim한 결과를 img_trim에 담는다\n",
        "    cv2.imwrite('cropimg.jpg',img_trim) \n",
        "    return img_trim #필요에 따라 결과물을 리턴\n"
      ],
      "execution_count": 27,
      "outputs": []
    },
    {
      "cell_type": "code",
      "metadata": {
        "id": "Pc_NwJ0F_DeC",
        "outputId": "708601f0-8492-40c8-a97c-e1479e9adb87",
        "colab": {
          "base_uri": "https://localhost:8080/",
          "height": 1000
        }
      },
      "source": [
        "def main():\n",
        "    if len(sys.argv) != 3:\n",
        "        print(\"Please run with args: $ python example.py /path/to/image appkey\")\n",
        "    image_path, appkey = '/content/drive/MyDrive/Menu/menu_crop.png', 'e4413c2fd1563978272bb92df92acb6f'\n",
        "\n",
        "    resize_impath = kakao_ocr_resize(image_path)\n",
        "    if resize_impath is not None:\n",
        "        image_path = resize_impath\n",
        "        print(\"원본 대신 리사이즈된 이미지를 사용합니다.\")\n",
        "\n",
        "    #카카오 API에서 범위, 인식한 글씨 받기\n",
        "    output = kakao_ocr(image_path, appkey).json()\n",
        "    outputdata = json.dumps(output, ensure_ascii=False,sort_keys=True, indent=2)\n",
        "    print(\"[OCR] output:\\n{}\\n\".format(outputdata))\n",
        "\n",
        "    #받은 데이터 array로 변환\n",
        "    outputdata = json.loads(outputdata)\n",
        "\n",
        "    #boxes data만 추출\n",
        "    print(outputdata['result'][2]['boxes'][0][0])\n",
        "\n",
        "    for i in range(len(outputdata['result'])):\n",
        "    #box 모양으로 잘라서 보여주기 \n",
        "      x = outputdata['result'][i]['boxes'][0][0]\n",
        "      y = outputdata['result'][i]['boxes'][0][1]\n",
        "      w =  (outputdata['result'][i]['boxes'][1][0] -  outputdata['result'][i]['boxes'][0][0])\n",
        "      h =  (outputdata['result'][i]['boxes'][2][1] -  outputdata['result'][i]['boxes'][0][1])\n",
        "   #원본 이미지\n",
        "      org_image = cv2.imread('/content/drive/MyDrive/Menu/menu_crop.png') \n",
        "   #자른 이미지\n",
        "      img_trim = org_image[y:y+h, x:x+w]\n",
        "   #자른 이미지 보여주기\n",
        "      cv2_imshow(img_trim)\n",
        "      print(outputdata['result'][i]['recognition_words'][0])\n",
        "\n",
        "if __name__ == \"__main__\":\n",
        "    main()"
      ],
      "execution_count": 41,
      "outputs": [
        {
          "output_type": "stream",
          "text": [
            "[OCR] output:\n",
            "{\n",
            "  \"result\": [\n",
            "    {\n",
            "      \"boxes\": [\n",
            "        [\n",
            "          7,\n",
            "          11\n",
            "        ],\n",
            "        [\n",
            "          163,\n",
            "          11\n",
            "        ],\n",
            "        [\n",
            "          163,\n",
            "          61\n",
            "        ],\n",
            "        [\n",
            "          7,\n",
            "          61\n",
            "        ]\n",
            "      ],\n",
            "      \"recognition_words\": [\n",
            "        \"전 골\"\n",
            "      ]\n",
            "    },\n",
            "    {\n",
            "      \"boxes\": [\n",
            "        [\n",
            "          221,\n",
            "          14\n",
            "        ],\n",
            "        [\n",
            "          381,\n",
            "          14\n",
            "        ],\n",
            "        [\n",
            "          381,\n",
            "          63\n",
            "        ],\n",
            "        [\n",
            "          221,\n",
            "          63\n",
            "        ]\n",
            "      ],\n",
            "      \"recognition_words\": [\n",
            "        \"낙 지\"\n",
            "      ]\n",
            "    },\n",
            "    {\n",
            "      \"boxes\": [\n",
            "        [\n",
            "          7,\n",
            "          77\n",
            "        ],\n",
            "        [\n",
            "          47,\n",
            "          77\n",
            "        ],\n",
            "        [\n",
            "          47,\n",
            "          116\n",
            "        ],\n",
            "        [\n",
            "          7,\n",
            "          116\n",
            "        ]\n",
            "      ],\n",
            "      \"recognition_words\": [\n",
            "        \"모\"\n",
            "      ]\n",
            "    },\n",
            "    {\n",
            "      \"boxes\": [\n",
            "        [\n",
            "          175,\n",
            "          85\n",
            "        ],\n",
            "        [\n",
            "          217,\n",
            "          85\n",
            "        ],\n",
            "        [\n",
            "          217,\n",
            "          127\n",
            "        ],\n",
            "        [\n",
            "          175,\n",
            "          127\n",
            "        ]\n",
            "      ],\n",
            "      \"recognition_words\": [\n",
            "        \"두\"\n",
            "      ]\n",
            "    },\n",
            "    {\n",
            "      \"boxes\": [\n",
            "        [\n",
            "          342,\n",
            "          83\n",
            "        ],\n",
            "        [\n",
            "          384,\n",
            "          83\n",
            "        ],\n",
            "        [\n",
            "          384,\n",
            "          128\n",
            "        ],\n",
            "        [\n",
            "          342,\n",
            "          128\n",
            "        ]\n",
            "      ],\n",
            "      \"recognition_words\": [\n",
            "        \"부\"\n",
            "      ]\n",
            "    },\n",
            "    {\n",
            "      \"boxes\": [\n",
            "        [\n",
            "          7,\n",
            "          155\n",
            "        ],\n",
            "        [\n",
            "          385,\n",
            "          155\n",
            "        ],\n",
            "        [\n",
            "          385,\n",
            "          202\n",
            "        ],\n",
            "        [\n",
            "          7,\n",
            "          202\n",
            "        ]\n",
            "      ],\n",
            "      \"recognition_words\": [\n",
            "        \"모 두 부 반 모\"\n",
            "      ]\n",
            "    },\n",
            "    {\n",
            "      \"boxes\": [\n",
            "        [\n",
            "          9,\n",
            "          225\n",
            "        ],\n",
            "        [\n",
            "          385,\n",
            "          227\n",
            "        ],\n",
            "        [\n",
            "          384,\n",
            "          271\n",
            "        ],\n",
            "        [\n",
            "          8,\n",
            "          269\n",
            "        ]\n",
            "      ],\n",
            "      \"recognition_words\": [\n",
            "        \"가 자 미 구 이\"\n",
            "      ]\n",
            "    }\n",
            "  ]\n",
            "}\n",
            "\n",
            "7\n"
          ],
          "name": "stdout"
        },
        {
          "output_type": "display_data",
          "data": {
            "image/png": "[encoded data removed]",
            "text/plain": [
              "<PIL.Image.Image image mode=RGB size=156x50 at 0x7FBC72A03310>"
            ]
          },
          "metadata": {
            "tags": []
          }
        },
        {
          "output_type": "stream",
          "text": [
            "전 골\n"
          ],
          "name": "stdout"
        },
        {
          "output_type": "display_data",
          "data": {
            "image/png": "[encoded data removed]",
            "text/plain": [
              "<PIL.Image.Image image mode=RGB size=160x49 at 0x7FBC6CB1D1D0>"
            ]
          },
          "metadata": {
            "tags": []
          }
        },
        {
          "output_type": "stream",
          "text": [
            "낙 지\n"
          ],
          "name": "stdout"
        },
        {
          "output_type": "display_data",
          "data": {
            "image/png": "[encoded data removed]",
            "text/plain": [
              "<PIL.Image.Image image mode=RGB size=40x39 at 0x7FBC6CB1D1D0>"
            ]
          },
          "metadata": {
            "tags": []
          }
        },
        {
          "output_type": "stream",
          "text": [
            "모\n"
          ],
          "name": "stdout"
        },
        {
          "output_type": "display_data",
          "data": {
            "image/png": "[encoded data removed]",
            "text/plain": [
              "<PIL.Image.Image image mode=RGB size=42x42 at 0x7FBC6CB1DDD0>"
            ]
          },
          "metadata": {
            "tags": []
          }
        },
        {
          "output_type": "stream",
          "text": [
            "두\n"
          ],
          "name": "stdout"
        },
        {
          "output_type": "display_data",
          "data": {
            "image/png": "[encoded data removed]",
            "text/plain": [
              "<PIL.Image.Image image mode=RGB size=42x45 at 0x7FBC6CB1D750>"
            ]
          },
          "metadata": {
            "tags": []
          }
        },
        {
          "output_type": "stream",
          "text": [
            "부\n"
          ],
          "name": "stdout"
        },
        {
          "output_type": "display_data",
          "data": {
            "image/png": "[encoded data removed]",
            "text/plain": [
              "<PIL.Image.Image image mode=RGB size=378x47 at 0x7FBC6CB1DC50>"
            ]
          },
          "metadata": {
            "tags": []
          }
        },
        {
          "output_type": "stream",
          "text": [
            "모 두 부 반 모\n"
          ],
          "name": "stdout"
        },
        {
          "output_type": "display_data",
          "data": {
            "image/png": "[encoded data removed]",
            "text/plain": [
              "<PIL.Image.Image image mode=RGB size=376x46 at 0x7FBC6CB1D550>"
            ]
          },
          "metadata": {
            "tags": []
          }
        },
        {
          "output_type": "stream",
          "text": [
            "가 자 미 구 이\n"
          ],
          "name": "stdout"
        }
      ]
    },
    {
      "cell_type": "code",
      "metadata": {
        "id": "1kSlhI5-DxVS",
        "outputId": "e3f5e6b4-8cf0-48f9-8bb7-eeeb98fcde16",
        "colab": {
          "base_uri": "https://localhost:8080/",
          "height": 168
        }
      },
      "source": [
        ""
      ],
      "execution_count": 17,
      "outputs": [
        {
          "output_type": "error",
          "ename": "NameError",
          "evalue": "ignored",
          "traceback": [
            "\u001b[0;31m---------------------------------------------------------------------------\u001b[0m",
            "\u001b[0;31mNameError\u001b[0m                                 Traceback (most recent call last)",
            "\u001b[0;32m<ipython-input-17-b58913ce122e>\u001b[0m in \u001b[0;36m<module>\u001b[0;34m()\u001b[0m\n\u001b[0;32m----> 1\u001b[0;31m \u001b[0mprint\u001b[0m\u001b[0;34m(\u001b[0m\u001b[0moutput\u001b[0m\u001b[0;34m.\u001b[0m\u001b[0mresult\u001b[0m\u001b[0;34m[\u001b[0m\u001b[0;36m0\u001b[0m\u001b[0;34m]\u001b[0m\u001b[0;34m)\u001b[0m\u001b[0;34m\u001b[0m\u001b[0;34m\u001b[0m\u001b[0m\n\u001b[0m",
            "\u001b[0;31mNameError\u001b[0m: name 'output' is not defined"
          ]
        }
      ]
    }
  ]
}